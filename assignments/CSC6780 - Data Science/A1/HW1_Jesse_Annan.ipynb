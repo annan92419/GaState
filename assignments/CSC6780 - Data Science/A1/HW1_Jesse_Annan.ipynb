{
 "cells": [
  {
   "cell_type": "markdown",
   "id": "8894aa1b",
   "metadata": {},
   "source": [
    "# Homework 1 (Due at 12:45 PM on 01/24)\n",
    "\n",
    "In this homework we will gain familiarity in working within a jupyter notebook environment. We will also be working with some common data science tools. I encourage you to search for how to complete certain problems by asking each other via iCollege or searching on the internet. **Do not copy anything that may solve a problem if you do not understand it.** Discussion is encouraged, but you must write everything on your own!\n",
    "\n",
    "For questions which do not require any response, write \"complete\"\n",
    "\n",
    "### Statement of Non-cheating and honest collaboration:\n",
    "\n",
    "I have been informed of the academic honesty policies of Georgia State University. I will abide by those policies. I have written up the solutions below by myself and understand what I have turned in. I collaborated and discussed the problems with the following people: ```Paige Christian```\n",
    "\n",
    "Signed,\n",
    "```Jesse Annan```\n",
    "\n",
    "\n",
    "## Question 1 (5 pts)\n",
    "Install the following libraries and import them:\n",
    "```numpy, scipy, matplotlib, pandas, and seaborn```"
   ]
  },
  {
   "cell_type": "code",
   "execution_count": 1,
   "id": "8011bcf1",
   "metadata": {},
   "outputs": [],
   "source": [
    "import numpy as np\n",
    "import scipy as sp\n",
    "import matplotlib.pyplot as plt\n",
    "import pandas as pd\n",
    "import seaborn as sns\n",
    "%matplotlib inline"
   ]
  },
  {
   "cell_type": "markdown",
   "id": "b7bd1b34",
   "metadata": {},
   "source": [
    "## Question 2 (5 pts)\n",
    "Search for the 'Top 50 followed Accounts on Twitter' dataset from kaggle (www.kaggle.com) There should be a dataset by the user 'Sunayana Gawde'. Download this dataset, it should be a 2KB csv file."
   ]
  },
  {
   "cell_type": "code",
   "execution_count": 2,
   "id": "8bfff80c",
   "metadata": {},
   "outputs": [
    {
     "data": {
      "text/plain": [
       "'complete'"
      ]
     },
     "execution_count": 2,
     "metadata": {},
     "output_type": "execute_result"
    }
   ],
   "source": [
    "\"complete\""
   ]
  },
  {
   "cell_type": "markdown",
   "id": "38b00184",
   "metadata": {},
   "source": [
    "## Question 3 (10 pts)\n",
    "Create a **list of dictionaries** of the downloaded CSV file. The key for the dictionary should be the column name. The value for the dictionary should be the values in each row. \n",
    "\n",
    "\n",
    "Print the first 5 entries of this list."
   ]
  },
  {
   "cell_type": "code",
   "execution_count": 3,
   "id": "eb4a2aaf",
   "metadata": {},
   "outputs": [
    {
     "data": {
      "text/html": [
       "<div>\n",
       "<style scoped>\n",
       "    .dataframe tbody tr th:only-of-type {\n",
       "        vertical-align: middle;\n",
       "    }\n",
       "\n",
       "    .dataframe tbody tr th {\n",
       "        vertical-align: top;\n",
       "    }\n",
       "\n",
       "    .dataframe thead th {\n",
       "        text-align: right;\n",
       "    }\n",
       "</style>\n",
       "<table border=\"1\" class=\"dataframe\">\n",
       "  <thead>\n",
       "    <tr style=\"text-align: right;\">\n",
       "      <th></th>\n",
       "      <th>Rank</th>\n",
       "      <th>Account Name</th>\n",
       "      <th>Account Owner</th>\n",
       "      <th>Brand Account(Y/N)</th>\n",
       "      <th>Followers(in M)</th>\n",
       "      <th>Occupation</th>\n",
       "      <th>Country</th>\n",
       "    </tr>\n",
       "  </thead>\n",
       "  <tbody>\n",
       "    <tr>\n",
       "      <th>0</th>\n",
       "      <td>1</td>\n",
       "      <td>@BarackObama</td>\n",
       "      <td>Barack Obama</td>\n",
       "      <td>N</td>\n",
       "      <td>133.4</td>\n",
       "      <td>44th President of the United States</td>\n",
       "      <td>United States</td>\n",
       "    </tr>\n",
       "    <tr>\n",
       "      <th>1</th>\n",
       "      <td>2</td>\n",
       "      <td>@elonmusk</td>\n",
       "      <td>Elon Musk</td>\n",
       "      <td>N</td>\n",
       "      <td>123.3</td>\n",
       "      <td>Business magnate, investor, and owner of Twitter</td>\n",
       "      <td>South Africa</td>\n",
       "    </tr>\n",
       "    <tr>\n",
       "      <th>2</th>\n",
       "      <td>3</td>\n",
       "      <td>@justinbieber</td>\n",
       "      <td>Justin Bieber</td>\n",
       "      <td>N</td>\n",
       "      <td>113.6</td>\n",
       "      <td>Musician</td>\n",
       "      <td>Canada</td>\n",
       "    </tr>\n",
       "    <tr>\n",
       "      <th>3</th>\n",
       "      <td>4</td>\n",
       "      <td>@katyperry</td>\n",
       "      <td>Katy Perry</td>\n",
       "      <td>N</td>\n",
       "      <td>108.7</td>\n",
       "      <td>Musician</td>\n",
       "      <td>United States</td>\n",
       "    </tr>\n",
       "    <tr>\n",
       "      <th>4</th>\n",
       "      <td>5</td>\n",
       "      <td>@rihanna</td>\n",
       "      <td>Rihanna</td>\n",
       "      <td>N</td>\n",
       "      <td>107.4</td>\n",
       "      <td>Musician</td>\n",
       "      <td>Barbados</td>\n",
       "    </tr>\n",
       "  </tbody>\n",
       "</table>\n",
       "</div>"
      ],
      "text/plain": [
       "   Rank   Account Name  Account Owner Brand Account(Y/N)  Followers(in M)  \\\n",
       "0     1   @BarackObama   Barack Obama                  N            133.4   \n",
       "1     2      @elonmusk      Elon Musk                  N            123.3   \n",
       "2     3  @justinbieber  Justin Bieber                  N            113.6   \n",
       "3     4     @katyperry     Katy Perry                  N            108.7   \n",
       "4     5       @rihanna        Rihanna                  N            107.4   \n",
       "\n",
       "                                         Occupation        Country  \n",
       "0               44th President of the United States  United States  \n",
       "1  Business magnate, investor, and owner of Twitter   South Africa  \n",
       "2                                          Musician         Canada  \n",
       "3                                          Musician  United States  \n",
       "4                                          Musician       Barbados  "
      ]
     },
     "execution_count": 3,
     "metadata": {},
     "output_type": "execute_result"
    }
   ],
   "source": [
    "tdf = pd.read_csv('most_followed_twitter.csv')\n",
    "tdf.head()"
   ]
  },
  {
   "cell_type": "code",
   "execution_count": 4,
   "id": "99e7dc56",
   "metadata": {},
   "outputs": [
    {
     "name": "stdout",
     "output_type": "stream",
     "text": [
      "[{'Rank': [1, 2, 3, 4, 5, 6, 7, 8, 9, 10, 11, 12, 13, 14, 15, 16, 17, 18, 19, 20, 21, 22, 23, 24, 25, 26, 27, 28, 29, 30, 31, 32, 33, 34, 35, 36, 37, 38, 39, 40, 41, 42, 43, 44, 45, 46, 47, 48, 49, 50]}, {'Account Name': ['@BarackObama', '@elonmusk', '@justinbieber', '@katyperry', '@rihanna', '@Cristiano', '@taylorswift13', '@realDonaldTrump', '@narendramodi', '@ladygaga', '@YouTube', '@TheEllenShow', '@KimKardashian', '@NASA', '@selenagomez', '@Twitter', '@cnnbrk', '@jtimberlake', '@BillGates', '@CNN', '@neymarjr', '@britneyspears', '@nytimes', '@ddlovato', '@shakira', '@KingJames', '@imVkohli', '@PMOIndia', '@BBCBreaking', '@jimmyfallon', '@SrBachchan', '@BTS_twt', '@MileyCyrus', '@realmadrid', '@ChampionsLeague', '@JLo', '@akshaykumar', '@FCBarcelona', '@BeingSalmanKhan', '@espn', '@BrunoMars', '@Oprah', '@iamsrk', '@bts_bighit', '@SportsCenter', '@NiallOfficial', '@NBA', '@KylieJenner', '@Drake', '@BBCWorld']}, {'Account Owner': ['Barack Obama', 'Elon Musk', 'Justin Bieber', 'Katy Perry', 'Rihanna', 'Cristiano Ronaldo', 'Taylor Swift', 'Donald Trump', 'Narendra Modi', 'Lady Gaga', 'YouTube', 'Ellen DeGeneres', 'Kim Kardashian', 'NASA', 'Selena Gomez', 'Twitter', 'CNN Breaking News', 'Justin Timberlake', 'Bill Gates', 'CNN', 'Neymar', 'Britney Spears', 'The New York Times', 'Demi Lovato', 'Shakira', 'LeBron James', 'Virat Kohli', 'PMO India', 'BBC Breaking News', 'Jimmy Fallon', 'Amitabh Bachchan', 'BTS', 'Miley Cyrus', 'Real Madrid CF', 'UEFA Champions League', 'Jennifer Lopez', 'Akshay Kumar', 'FC Barcelona', 'Salman Khan', 'ESPN', 'Bruno Mars', 'Oprah Winfrey', 'Shah Rukh Khan', 'BTS', 'SportsCenter', 'Niall Horan', 'NBA', 'Kylie Jenner', 'Drake', 'BBC World News']}, {'Brand Account(Y/N)': ['N', 'N', 'N', 'N', 'N', 'N', 'N', 'N', 'N', 'N', 'Y', 'N', 'N', 'Y', 'N', 'Y', 'Y', 'N', 'N', 'Y', 'N', 'N', 'Y', 'N', 'N', 'N', 'N', 'Y', 'Y', 'N', 'N', 'N', 'N', 'Y', 'Y', 'N', 'N', 'Y', 'N', 'Y', 'N', 'N', 'N', 'N', 'Y', 'N', 'Y', 'N', 'N', 'Y']}, {'Followers(in M)': [133.4, 123.3, 113.6, 108.7, 107.4, 106.3, 92.0, 87.8, 85.1, 84.9, 77.9, 76.9, 74.3, 67.6, 66.4, 65.0, 64.0, 62.7, 61.2, 60.7, 59.5, 56.0, 54.7, 53.9, 53.2, 52.4, 52.2, 51.6, 51.4, 51.2, 48.1, 47.8, 46.7, 45.8, 45.7, 45.4, 45.4, 45.2, 44.6, 43.6, 43.1, 43.0, 42.8, 42.2, 41.3, 41.1, 41.1, 40.3, 39.8, 39.0]}]\n"
     ]
    }
   ],
   "source": [
    "twitterData = pd.read_csv('most_followed_twitter.csv')\n",
    "\n",
    "twitterList = []\n",
    "for colname in twitterData:\n",
    "    tempdict = dict()\n",
    "    tempdict[colname] = [row[colname] for lab, row in twitterData.iterrows()]\n",
    "    twitterList.append(tempdict)\n",
    "    \n",
    "print(twitterList[:5])"
   ]
  },
  {
   "cell_type": "markdown",
   "id": "2cc14890",
   "metadata": {},
   "source": [
    "##### Instructor's correction:"
   ]
  },
  {
   "cell_type": "code",
   "execution_count": 5,
   "id": "cd656bfd",
   "metadata": {},
   "outputs": [
    {
     "name": "stdout",
     "output_type": "stream",
     "text": [
      "[{'Rank': '1', 'Account Name': '@BarackObama', 'Account Owner': 'Barack Obama', 'Brand Account(Y/N)': 'N', 'Followers(in M)': '133.4', 'Occupation': '44th President of the United States', 'Country': 'United States'}, {'Rank': '2', 'Account Name': '@elonmusk', 'Account Owner': 'Elon Musk', 'Brand Account(Y/N)': 'N', 'Followers(in M)': '123.3', 'Occupation': 'Business magnate, investor, and owner of Twitter', 'Country': 'South Africa'}, {'Rank': '3', 'Account Name': '@justinbieber', 'Account Owner': 'Justin Bieber', 'Brand Account(Y/N)': 'N', 'Followers(in M)': '113.6', 'Occupation': 'Musician', 'Country': 'Canada'}, {'Rank': '4', 'Account Name': '@katyperry', 'Account Owner': 'Katy Perry', 'Brand Account(Y/N)': 'N', 'Followers(in M)': '108.7', 'Occupation': 'Musician', 'Country': 'United States'}, {'Rank': '5', 'Account Name': '@rihanna', 'Account Owner': 'Rihanna', 'Brand Account(Y/N)': 'N', 'Followers(in M)': '107.4', 'Occupation': 'Musician', 'Country': 'Barbados'}]\n"
     ]
    }
   ],
   "source": [
    "import csv\n",
    "with open('most_followed_twitter.csv', 'r') as f:\n",
    "    reader = csv.DictReader(f)\n",
    "    data = [row for row in reader]\n",
    "\n",
    "print(data[:5])"
   ]
  },
  {
   "cell_type": "markdown",
   "id": "d434b02a",
   "metadata": {},
   "source": [
    "## Question 4 (5 pts)\n",
    "\n",
    "Using the ```pandas.DataFrame.from_dict``` function (https://pandas.pydata.org/docs/reference/api/pandas.DataFrame.from_dict.html), create a DataFrame object that has the same column and row format as the original CSV. You should use or convert the the list of dictionaries created from question 3. "
   ]
  },
  {
   "cell_type": "code",
   "execution_count": 6,
   "id": "531612aa",
   "metadata": {},
   "outputs": [
    {
     "data": {
      "text/html": [
       "<div>\n",
       "<style scoped>\n",
       "    .dataframe tbody tr th:only-of-type {\n",
       "        vertical-align: middle;\n",
       "    }\n",
       "\n",
       "    .dataframe tbody tr th {\n",
       "        vertical-align: top;\n",
       "    }\n",
       "\n",
       "    .dataframe thead th {\n",
       "        text-align: right;\n",
       "    }\n",
       "</style>\n",
       "<table border=\"1\" class=\"dataframe\">\n",
       "  <thead>\n",
       "    <tr style=\"text-align: right;\">\n",
       "      <th></th>\n",
       "      <th>Rank</th>\n",
       "      <th>Account Name</th>\n",
       "      <th>Account Owner</th>\n",
       "      <th>Brand Account(Y/N)</th>\n",
       "      <th>Followers(in M)</th>\n",
       "      <th>Occupation</th>\n",
       "      <th>Country</th>\n",
       "    </tr>\n",
       "  </thead>\n",
       "  <tbody>\n",
       "    <tr>\n",
       "      <th>0</th>\n",
       "      <td>1</td>\n",
       "      <td>@BarackObama</td>\n",
       "      <td>Barack Obama</td>\n",
       "      <td>N</td>\n",
       "      <td>133.4</td>\n",
       "      <td>44th President of the United States</td>\n",
       "      <td>United States</td>\n",
       "    </tr>\n",
       "    <tr>\n",
       "      <th>1</th>\n",
       "      <td>2</td>\n",
       "      <td>@elonmusk</td>\n",
       "      <td>Elon Musk</td>\n",
       "      <td>N</td>\n",
       "      <td>123.3</td>\n",
       "      <td>Business magnate, investor, and owner of Twitter</td>\n",
       "      <td>South Africa</td>\n",
       "    </tr>\n",
       "    <tr>\n",
       "      <th>2</th>\n",
       "      <td>3</td>\n",
       "      <td>@justinbieber</td>\n",
       "      <td>Justin Bieber</td>\n",
       "      <td>N</td>\n",
       "      <td>113.6</td>\n",
       "      <td>Musician</td>\n",
       "      <td>Canada</td>\n",
       "    </tr>\n",
       "    <tr>\n",
       "      <th>3</th>\n",
       "      <td>4</td>\n",
       "      <td>@katyperry</td>\n",
       "      <td>Katy Perry</td>\n",
       "      <td>N</td>\n",
       "      <td>108.7</td>\n",
       "      <td>Musician</td>\n",
       "      <td>United States</td>\n",
       "    </tr>\n",
       "    <tr>\n",
       "      <th>4</th>\n",
       "      <td>5</td>\n",
       "      <td>@rihanna</td>\n",
       "      <td>Rihanna</td>\n",
       "      <td>N</td>\n",
       "      <td>107.4</td>\n",
       "      <td>Musician</td>\n",
       "      <td>Barbados</td>\n",
       "    </tr>\n",
       "  </tbody>\n",
       "</table>\n",
       "</div>"
      ],
      "text/plain": [
       "   Rank   Account Name  Account Owner Brand Account(Y/N)  Followers(in M)  \\\n",
       "0     1   @BarackObama   Barack Obama                  N            133.4   \n",
       "1     2      @elonmusk      Elon Musk                  N            123.3   \n",
       "2     3  @justinbieber  Justin Bieber                  N            113.6   \n",
       "3     4     @katyperry     Katy Perry                  N            108.7   \n",
       "4     5       @rihanna        Rihanna                  N            107.4   \n",
       "\n",
       "                                         Occupation        Country  \n",
       "0               44th President of the United States  United States  \n",
       "1  Business magnate, investor, and owner of Twitter   South Africa  \n",
       "2                                          Musician         Canada  \n",
       "3                                          Musician  United States  \n",
       "4                                          Musician       Barbados  "
      ]
     },
     "execution_count": 6,
     "metadata": {},
     "output_type": "execute_result"
    }
   ],
   "source": [
    "twitterDict = dict()\n",
    "for i in range(len(twitterList)):\n",
    "    twitterDict.update(twitterList[i])\n",
    "\n",
    "twitter = pd.DataFrame.from_dict(twitterDict)\n",
    "twitter.head()"
   ]
  },
  {
   "cell_type": "markdown",
   "id": "395bebe1",
   "metadata": {},
   "source": [
    "## Question 5 (10 pts)\n",
    "\n",
    "1. Create a histogram of occupation by using seaborn. Hint: look at seaborn's countplot function. (5 pts)\n",
    "2. Improve the figure aesthetics. Some things you can do is to change the size of the figure and rotate axis labels. (5 pts)\n"
   ]
  },
  {
   "cell_type": "code",
   "execution_count": 7,
   "id": "f26a0a47",
   "metadata": {},
   "outputs": [
    {
     "data": {
      "image/png": "[encoded data removed]",
      "text/plain": [
       "<Figure size 432x288 with 1 Axes>"
      ]
     },
     "metadata": {},
     "output_type": "display_data"
    }
   ],
   "source": [
    "sns.set_style('darkgrid')\n",
    "histogram = sns.countplot(twitter, x = twitter['Occupation'],\n",
    "                        palette='dark:salmon_r', ec='black',\n",
    "                        order = twitter['Occupation'].value_counts().index)\n",
    "histogram.set_xticklabels(histogram.get_xticklabels(), rotation=90)\n",
    "plt.show()"
   ]
  },
  {
   "cell_type": "markdown",
   "id": "7342ac6a",
   "metadata": {},
   "source": [
    "## Question 6 (10 pts)\n",
    "\n",
    "1. Professor Ding wants more Twitter followers. Based on the data and analysis above, what do you suggest he do to achieve this? (3 pts) \n",
    "2. Provide a critique of this suggestion. Some questions to think about: Why is this the suggestion you make? What is good about it? What is bad about it? Anything else? (7 pts)"
   ]
  },
  {
   "cell_type": "markdown",
   "id": "6afc3b7c",
   "metadata": {},
   "source": [
    "#### Remark\n",
    "1. Based on the histogram above, Musician is the most followed occupation\n",
    "therefore if Professor Ding wants more followers he may consider changing \n",
    "occupation to be a musician.\n",
    "\n",
    "2. Although the most followed occupation is Mucisian, the most followed\n",
    "person is a former president. Moreover, country of individual also seem\n",
    "to influence the number of followers since there are 28 accounts from the\n",
    "United States in the top 50 most follwed twitter account file. Furthermore,\n",
    "out of the top 20 followed acconts, only 4 are Brand Accounts and out of\n",
    "the 50, 35 are non brand accounts."
   ]
  },
  {
   "cell_type": "code",
   "execution_count": null,
   "id": "39582032",
   "metadata": {},
   "outputs": [],
   "source": []
  }
 ],
 "metadata": {
  "kernelspec": {
   "display_name": "Python 3 (ipykernel)",
   "language": "python",
   "name": "python3"
  },
  "language_info": {
   "codemirror_mode": {
    "name": "ipython",
    "version": 3
   },
   "file_extension": ".py",
   "mimetype": "text/x-python",
   "name": "python",
   "nbconvert_exporter": "python",
   "pygments_lexer": "ipython3",
   "version": "3.10.7"
  },
  "vscode": {
   "interpreter": {
    "hash": "5e1c81bed49fdfea3e2d6ab96e522a44e2d3d83ab5dfead5b690824ce79664ad"
   }
  }
 },
 "nbformat": 4,
 "nbformat_minor": 5
}
