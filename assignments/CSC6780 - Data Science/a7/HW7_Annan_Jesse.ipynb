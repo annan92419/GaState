{
 "cells": [
  {
   "attachments": {},
   "cell_type": "markdown",
   "metadata": {},
   "source": [
    "## Homework 7 [70-POINTS]\n",
    "\n",
    "### Statement of Non-cheating and honest collaboration:\n",
    "\n",
    "I have been informed of the academic honesty policies of Georgia State University. I will abide by those policies. I have written up the solutions below by myself and understand what I have turned in. I collaborated and discussed the problems with the following people: ```[insert here]```\n",
    "\n",
    "Signed,\n",
    "```Jesse Annan```\n",
    "\n",
    "\n",
    "### Directions ** IMPORTANT**\n",
    "\n",
    "- **Change the notebook's name and add your name before submitting.**\n",
    "- **Do not code your solution. Please provide manual solution.**"
   ]
  },
  {
   "attachments": {},
   "cell_type": "markdown",
   "metadata": {},
   "source": [
    "#### Q-1) [10-Points] Answer the below questions:\n",
    "    a)[2-Points] Three people flip a fair coin. What is the probability that exactly two of them will get heads?\n",
    "\n",
    "    b)[4-Points] Twenty people flip a fair coin. What is the probability that exactly eight of them will get heads?\n",
    "\n",
    "    c)[4-Points] Twenty people flip a fair coin. What is the probability that at least four of them will get heads?"
   ]
  },
  {
   "cell_type": "code",
   "execution_count": 9,
   "metadata": {},
   "outputs": [],
   "source": [
    "## Your solution goes here"
   ]
  },
  {
   "attachments": {},
   "cell_type": "markdown",
   "metadata": {},
   "source": [
    "#### Q-2)[25-POINTS] The table below gives details of symptoms that patients presented and whether they were suffering from meningitis.\n",
    "\n",
    "#### The target feature is the Corruption Perception Index (CPI). The CPI measures the perceived levels of corruption in the public sector of countries and ranges from 0(highly corrupt) to 100 (very clean).<sup>1</sup>\n",
    "\n",
    "|ID | HEADACHE | FEVER | VOMITING | MENINGITIS |\n",
    "|---|---|---|---|---|\n",
    "|1|true|true|false|false|\n",
    "|2|false|true|false|false|\n",
    "|3|true|false|true|false|\n",
    "|4|true|false|true|false|\n",
    "|5|false|true|false|true|\n",
    "|6|true|false|true|false|\n",
    "|7|true|false|true|false|\n",
    "|8|true|false|true|true|\n",
    "|9|false|true|false|false|\n",
    "|10|true|false|true|true|\n",
    "\n",
    "#### Using this dataset calculate the following probabilities:\n",
    "###\n",
    "\n",
    "    a)[5-Points] P(VOMITING = true)\n",
    "\n",
    "    b)[5-Points] P(HEADACHE = false)\n",
    "\n",
    "    c)[5-Points] P(HEADACHE = true, VOMITING = false)\n",
    "\n",
    "    d)[5-Points] P(VOMITING = false | HEADACHE = true)\n",
    "\n",
    "    e)[6-Points] P(MENINGITIS | FEVER = true, VOMITING = false)"
   ]
  },
  {
   "cell_type": "code",
   "execution_count": 10,
   "metadata": {},
   "outputs": [],
   "source": [
    "# Your solution goes here"
   ]
  },
  {
   "attachments": {},
   "cell_type": "markdown",
   "metadata": {},
   "source": [
    "#### Q-3)[20-Points] The table below lists a dataset containing details of policy holders at an insurance company. The descriptive features included in the table describe each policy holders’ ID, occupation, gender, age, the type of insurance policy they hold, and their preferred contact channel. The preferred contact channel is the target feature in this domain.\n",
    "\n",
    "| ID| OCCUPATION| GENDER| AGE| POLICY TYPE| PREF CHANNEL|\n",
    "|---|---|---|---|---|---|\n",
    "|1|lab tech|female|43|planC|email|\n",
    "|2|farmhand|female|57|planA|phone|\n",
    "|3|biophysicist|male|21|planA|email|\n",
    "|4|sheriff|female|47|planB|phone|\n",
    "|5|painter|male|55|planC|phone|\n",
    "|6|manager|male|19|planA|email|\n",
    "|7|geologist|male|49|planC|phone|\n",
    "|8|messenger|male|51|planB|email|\n",
    "|9|nurse|female|18|planC|phone|\n",
    "\n",
    "    a)[5-Points] Using equal-frequency binning transform the AGE feature into a categorical feature with three levels: young, middle-aged, mature.\n",
    "    b)[5-Points] Examine the descriptive features in the dataset and list the features that you would exclude before you would use the dataset to build a predictive model. For each feature you decide to exclude explain why you have made this decision.\n",
    "    c)[5-Points] Calculate the probabilities required by a naive Bayes model to represent this domain.\n",
    "    d)[5-Points] What target level will a naive Bayes model predict for the following query:\n",
    "                GENDER = female, AGE = 30, POLICY = planA"
   ]
  },
  {
   "cell_type": "raw",
   "metadata": {},
   "source": [
    "# Your Soultion goes here"
   ]
  },
  {
   "attachments": {},
   "cell_type": "markdown",
   "metadata": {},
   "source": [
    "#### Q-4)[15-Points] Imagine that you have been given a dataset of 1,000 documents that have been classified as being about entertainment or education. There are 700 entertainment documents in the dataset and 300 education documents in the dataset. The tables below give the number of documents from each topic that a selection of words occurred in.\n",
    "\n",
    "Word-document counts for the entertainment dataset:\n",
    "| fun| is| machine| christmas| family| learning|\n",
    "|---|---|---|---|---|---|\n",
    "|415|695|35|0|400|70|\n",
    "\n",
    "Word-document counts for the education dataset:\n",
    "| fun| is| machine| christmas| family| learning|\n",
    "|---|---|---|---|---|---|\n",
    "|200|295|120|0|10|105|\n",
    "\n",
    "    a)[5-Points] What target level will a naive Bayes model predict for the following query document: “machine learning is fun”?\n",
    "    b)[5-Points] What target level will a naive Bayes model predict for the following query document: “christmas family fun”?\n",
    "    c)[5-Points] What target level will a naive Bayes model predict for the query document in part (b) of this question, if Laplace smoothing with k = 10 and a vocabulary size of 6 is used?"
   ]
  },
  {
   "attachments": {},
   "cell_type": "raw",
   "metadata": {},
   "source": [
    "# Your Soultion goes here"
   ]
  }
 ],
 "metadata": {
  "kernelspec": {
   "display_name": "Python 3",
   "language": "python",
   "name": "python3"
  },
  "language_info": {
   "codemirror_mode": {
    "name": "ipython",
    "version": 3
   },
   "file_extension": ".py",
   "mimetype": "text/x-python",
   "name": "python",
   "nbconvert_exporter": "python",
   "pygments_lexer": "ipython3",
   "version": "3.11.1"
  },
  "orig_nbformat": 4
 },
 "nbformat": 4,
 "nbformat_minor": 2
}
