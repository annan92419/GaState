{
 "cells": [
  {
   "cell_type": "markdown",
   "id": "e8e13bcf",
   "metadata": {},
   "source": [
    "## Homework 5: Neural Network\n",
    "\n",
    "### Name: Annan Jesse\n",
    "### ID: 002708111"
   ]
  },
  {
   "cell_type": "markdown",
   "id": "3d0304c9",
   "metadata": {},
   "source": [
    "#### Loading important libraries"
   ]
  },
  {
   "cell_type": "code",
   "execution_count": 1,
   "id": "49ef31e4",
   "metadata": {},
   "outputs": [],
   "source": [
    "import pandas as pd\n",
    "import numpy as np\n",
    "import matplotlib.pyplot as plt\n",
    "from sklearn import svm, metrics"
   ]
  },
  {
   "cell_type": "markdown",
   "id": "91f2dff8",
   "metadata": {},
   "source": [
    "#### Reading data files"
   ]
  },
  {
   "cell_type": "code",
   "execution_count": 2,
   "id": "0192f964",
   "metadata": {},
   "outputs": [],
   "source": [
    "dtrain1 = pd.read_csv('./dataset1_training.csv', header=None)\n",
    "dtrain2 = pd.read_csv('./dataset2_training.csv', header=None)\n",
    "dtest1 = pd.read_csv('./dataset1_testing.csv', header=None)\n",
    "dtest2 = pd.read_csv('./dataset2_testing.csv', header=None)"
   ]
  },
  {
   "cell_type": "code",
   "execution_count": 3,
   "id": "590ba933",
   "metadata": {},
   "outputs": [
    {
     "name": "stderr",
     "output_type": "stream",
     "text": [
      "/tmp/ipykernel_11781/288070231.py:1: FutureWarning: Passing a set as an indexer is deprecated and will raise in a future version. Use a list instead.\n",
      "  Xtrain1, ytrain1 = np.array(dtrain1[{0,1}]), np.array(dtrain1[2])\n",
      "/tmp/ipykernel_11781/288070231.py:2: FutureWarning: Passing a set as an indexer is deprecated and will raise in a future version. Use a list instead.\n",
      "  Xtest1, ytest1 = np.array(dtest1[{0,1}]), np.array(dtest1[2])\n"
     ]
    },
    {
     "data": {
      "text/html": [
       "<div>\n",
       "<style scoped>\n",
       "    .dataframe tbody tr th:only-of-type {\n",
       "        vertical-align: middle;\n",
       "    }\n",
       "\n",
       "    .dataframe tbody tr th {\n",
       "        vertical-align: top;\n",
       "    }\n",
       "\n",
       "    .dataframe thead th {\n",
       "        text-align: right;\n",
       "    }\n",
       "</style>\n",
       "<table border=\"1\" class=\"dataframe\">\n",
       "  <thead>\n",
       "    <tr style=\"text-align: right;\">\n",
       "      <th></th>\n",
       "      <th>0</th>\n",
       "      <th>1</th>\n",
       "      <th>2</th>\n",
       "    </tr>\n",
       "  </thead>\n",
       "  <tbody>\n",
       "    <tr>\n",
       "      <th>0</th>\n",
       "      <td>1.53</td>\n",
       "      <td>3.13</td>\n",
       "      <td>0</td>\n",
       "    </tr>\n",
       "    <tr>\n",
       "      <th>1</th>\n",
       "      <td>0.58</td>\n",
       "      <td>2.83</td>\n",
       "      <td>0</td>\n",
       "    </tr>\n",
       "    <tr>\n",
       "      <th>2</th>\n",
       "      <td>0.28</td>\n",
       "      <td>2.69</td>\n",
       "      <td>0</td>\n",
       "    </tr>\n",
       "    <tr>\n",
       "      <th>3</th>\n",
       "      <td>1.14</td>\n",
       "      <td>2.14</td>\n",
       "      <td>0</td>\n",
       "    </tr>\n",
       "    <tr>\n",
       "      <th>4</th>\n",
       "      <td>1.46</td>\n",
       "      <td>3.39</td>\n",
       "      <td>0</td>\n",
       "    </tr>\n",
       "  </tbody>\n",
       "</table>\n",
       "</div>"
      ],
      "text/plain": [
       "      0     1  2\n",
       "0  1.53  3.13  0\n",
       "1  0.58  2.83  0\n",
       "2  0.28  2.69  0\n",
       "3  1.14  2.14  0\n",
       "4  1.46  3.39  0"
      ]
     },
     "execution_count": 3,
     "metadata": {},
     "output_type": "execute_result"
    }
   ],
   "source": [
    "Xtrain1, ytrain1 = np.array(dtrain1[{0,1}]), np.array(dtrain1[2])\n",
    "Xtest1, ytest1 = np.array(dtest1[{0,1}]), np.array(dtest1[2])\n",
    "dtrain1.head()"
   ]
  },
  {
   "cell_type": "code",
   "execution_count": 4,
   "id": "8e01eba8",
   "metadata": {},
   "outputs": [],
   "source": [
    "def init_parameters():\n",
    "    Weight1 = np.random.rand(2, 4) - 0.5\n",
    "    bais1 = np.random.rand(4, 1) - 0.5\n",
    "    Weight2 = np.random.rand(4, 2) - 0.5\n",
    "    bais2 = np.random.rand(2, 1) - 0.5\n",
    "    return Weight1, bais1, Weight2, bais2"
   ]
  },
  {
   "cell_type": "code",
   "execution_count": 5,
   "id": "18656470",
   "metadata": {},
   "outputs": [],
   "source": [
    "def sigmoid(z):\n",
    "    # The sigmoid function\n",
    "    from numpy import exp\n",
    "    return ( 1/(1 + exp(-z)) )\n",
    "\n",
    "# def dsigmoid(z):\n",
    "#     # The derivative of the sigmoid function\n",
    "#     return sigmoid(z) * (1 - sigmoid(z))"
   ]
  },
  {
   "cell_type": "code",
   "execution_count": 6,
   "id": "81212e13",
   "metadata": {},
   "outputs": [],
   "source": [
    "def forwardpropagation(Xinputs):\n",
    "    \"\"\"\n",
    "    forward propagation\n",
    "    a function that takes in the previous layer inputs,\n",
    "    weights and bias of current layer and computes the\n",
    "    activation of the current layer.\n",
    "        z[l] = W[l]*a[l-1] + b[l]\n",
    "        a[l] = g(z[l])\n",
    "    \"\"\"\n",
    "    import numpy as np\n",
    "    \n",
    "    Weight1, bais1, Weight2, bais2 = init_parameters()\n",
    "    \n",
    "    for i in range(Xinputs.shape[0]):\n",
    "        z1 = Weight1.T @ np.array([[Xinputs[i][0]], [Xinputs[i][1]]]) + bais1\n",
    "        activation1 = sigmoid(z1)\n",
    "    \n",
    "        z2 = Weight2.T @ activation1 + bais2\n",
    "        activation2 = sigmoid(z2)\n",
    "    \n",
    "    return activation1, activation2"
   ]
  },
  {
   "cell_type": "code",
   "execution_count": 7,
   "id": "d5932bcd",
   "metadata": {},
   "outputs": [],
   "source": [
    "def backpropagation(Xinputs, yinputs, alpha = 0.9):\n",
    "    import numpy as np\n",
    "    \n",
    "    Weight1, Weight2, bais1, bais2 = init_parameters()\n",
    "    activation1, activation2 = forwardpropagation(Xinputs)\n",
    "    \n",
    "    for i in range(yinputs.shape[0]):\n",
    "        err2 = activation2 * (1 - activation2) * (yinputs[i] - activation2)\n",
    "        err1 = activation1 * (1 - activation1) * ( err2.T * Weight2 )\n",
    "\n",
    "    # update weight and bais\n",
    "    bais2 = bais2 + alpha * err2\n",
    "    bais1 = bais1 + alpha * err1\n",
    "    Weight2 = Weight2 + alpha * err2.T * activation1\n",
    "    for i in range(Xinputs.shape[0]):\n",
    "        Weight1 = Weight1 + alpha * err1.T * np.array([[Xinputs[i][0]], [Xinputs[i][1]]])\n",
    "    \n",
    "    return err1, err2, Weight1, Weight2, bais1, bais2"
   ]
  },
  {
   "cell_type": "code",
   "execution_count": null,
   "id": "088ff2c4",
   "metadata": {},
   "outputs": [],
   "source": []
  },
  {
   "cell_type": "markdown",
   "id": "cc26de65",
   "metadata": {},
   "source": [
    "#"
   ]
  },
  {
   "cell_type": "markdown",
   "id": "151254dd",
   "metadata": {},
   "source": [
    "#"
   ]
  },
  {
   "cell_type": "markdown",
   "id": "488d9440",
   "metadata": {},
   "source": [
    "#"
   ]
  },
  {
   "cell_type": "markdown",
   "id": "6ef9d888",
   "metadata": {},
   "source": [
    "###### credits / references:\n",
    "1. https://www.kaggle.com/code/wwsalmon/simple-mnist-nn-from-scratch-numpy-no-tf-keras/notebook\n",
    "2. https://machinelearningmastery.com/implement-backpropagation-algorithm-scratch-python/\n",
    "3. https://www.coursera.org/specializations/machine-learning-introduction"
   ]
  }
 ],
 "metadata": {
  "kernelspec": {
   "display_name": "Python 3 (ipykernel)",
   "language": "python",
   "name": "python3"
  },
  "language_info": {
   "codemirror_mode": {
    "name": "ipython",
    "version": 3
   },
   "file_extension": ".py",
   "mimetype": "text/x-python",
   "name": "python",
   "nbconvert_exporter": "python",
   "pygments_lexer": "ipython3",
   "version": "3.10.7"
  }
 },
 "nbformat": 4,
 "nbformat_minor": 5
}
