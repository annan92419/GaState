{
 "cells": [
  {
   "cell_type": "code",
   "execution_count": 1,
   "id": "f3fb9186",
   "metadata": {},
   "outputs": [],
   "source": [
    "import pandas as pd\n",
    "import seaborn as sns\n",
    "import matplotlib.pyplot as plt\n",
    "from sklearn.cluster import SpectralClustering"
   ]
  },
  {
   "cell_type": "code",
   "execution_count": 2,
   "id": "9e6c2f58",
   "metadata": {},
   "outputs": [],
   "source": [
    "xs = [0, 1, 1, 1, 2, 2, 2, 3, 3, 3, 5, 6, 6, 7, 7, 7, 7, 8, 8, 9]\n",
    "ys = [7, 1, 6, 8, 5, 7, 8, 0, 6, 7, 3, 2, 4, 2, 3, 5, 8 ,3 ,4, 9]\n",
    "xy_data = []\n",
    "for i in range(len(xs)):\n",
    "  xy_data.insert(i, (xs[i], ys[i]))"
   ]
  },
  {
   "cell_type": "code",
   "execution_count": 3,
   "id": "86156837",
   "metadata": {},
   "outputs": [
    {
     "data": {
      "image/png": "[encoded data removed]",
      "text/plain": [
       "<Figure size 432x288 with 1 Axes>"
      ]
     },
     "metadata": {
      "needs_background": "light"
     },
     "output_type": "display_data"
    }
   ],
   "source": [
    "sc = SpectralClustering(n_clusters=4).fit(xy_data)\n",
    "df_sc = pd.DataFrame(columns=['x','y'], data=xy_data)\n",
    "df_sc['Clusters'] = sc.labels_\n",
    "sns.scatterplot(x='x', y='y',hue = 'Clusters',  data=df_sc,palette='viridis')\n",
    "plt.show()"
   ]
  },
  {
   "cell_type": "markdown",
   "id": "b17e9332",
   "metadata": {},
   "source": [
    "#"
   ]
  },
  {
   "cell_type": "markdown",
   "id": "53c27a8b",
   "metadata": {},
   "source": [
    "#\n"
   ]
  },
  {
   "cell_type": "markdown",
   "id": "a2cd5cef",
   "metadata": {},
   "source": [
    "#"
   ]
  },
  {
   "cell_type": "markdown",
   "id": "99cf5b26",
   "metadata": {},
   "source": [
    "##### credits"
   ]
  },
  {
   "cell_type": "markdown",
   "id": "b98504ae",
   "metadata": {},
   "source": [
    "1. Joanne\n",
    "2. https://scikit-learn.org/stable/modules/generated/sklearn.cluster.SpectralClustering.html"
   ]
  }
 ],
 "metadata": {
  "kernelspec": {
   "display_name": "Python 3 (ipykernel)",
   "language": "python",
   "name": "python3"
  },
  "language_info": {
   "codemirror_mode": {
    "name": "ipython",
    "version": 3
   },
   "file_extension": ".py",
   "mimetype": "text/x-python",
   "name": "python",
   "nbconvert_exporter": "python",
   "pygments_lexer": "ipython3",
   "version": "3.10.7"
  }
 },
 "nbformat": 4,
 "nbformat_minor": 5
}
