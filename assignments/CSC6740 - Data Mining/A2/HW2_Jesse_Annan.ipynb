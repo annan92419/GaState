{
 "cells": [
  {
   "cell_type": "markdown",
   "metadata": {
    "id": "dEGPlx9LFMVc"
   },
   "source": [
    "# JESSE ANNAN\n",
    "# ASSIGNMENT 2"
   ]
  },
  {
   "cell_type": "code",
   "execution_count": 4,
   "metadata": {
    "colab": {
     "base_uri": "https://localhost:8080/"
    },
    "id": "QDrDxiDXA0Hj",
    "outputId": "24b2bca8-6a14-402b-91c4-8b64a1922549"
   },
   "outputs": [
    {
     "name": "stdout",
     "output_type": "stream",
     "text": [
      "(3.0, array([[0., 1., 2., 3., 4., 5., 6., 7.],\n",
      "       [1., 1., 2., 3., 4., 5., 6., 7.],\n",
      "       [2., 2., 1., 2., 3., 4., 5., 6.],\n",
      "       [3., 3., 2., 1., 2., 3., 4., 5.],\n",
      "       [4., 4., 3., 2., 1., 2., 3., 4.],\n",
      "       [5., 5., 4., 3., 2., 2., 3., 4.],\n",
      "       [6., 6., 5., 4., 3., 3., 2., 3.]]))\n",
      "(2.0, array([[0., 1., 2., 3., 4., 5., 6.],\n",
      "       [1., 0., 1., 2., 3., 4., 5.],\n",
      "       [2., 1., 1., 2., 3., 4., 5.],\n",
      "       [3., 2., 2., 1., 2., 3., 4.],\n",
      "       [4., 3., 3., 2., 1., 2., 3.],\n",
      "       [5., 4., 4., 3., 2., 1., 2.]]))\n"
     ]
    }
   ],
   "source": [
    "def myEditList(aStr, bStr):\n",
    "    from numpy import array,zeros,arange\n",
    "    n, m = len(aStr), len(bStr)\n",
    "\n",
    "    mat1 = array(zeros((n+1,m+1)))\n",
    "    for i in arange(n+1):\n",
    "        mat1[i,0] = i\n",
    "    for j in arange(m+1):\n",
    "        mat1[0,j] = j\n",
    "\n",
    "    for i in arange(1,n+1):\n",
    "        for j in arange(1,m+1):\n",
    "            if aStr[i-1] == bStr[j-1]:\n",
    "                mat1[i,j] = mat1[i-1,j-1]\n",
    "            else:\n",
    "                insertion = mat1[i,j-1] + 1\n",
    "                deletion = mat1[i-1,j] + 1\n",
    "                substitution = mat1[i-1,j-1] + 1\n",
    "                mat1[i,j] = min(insertion, deletion, substitution)  \n",
    "\n",
    "    return mat1[n,m], mat1\n",
    "\n",
    "print(myEditList('kitten', 'sitting'))\n",
    "print(myEditList('gumbo', 'gambol'))"
   ]
  },
  {
   "cell_type": "code",
   "execution_count": null,
   "metadata": {},
   "outputs": [],
   "source": []
  }
 ],
 "metadata": {
  "colab": {
   "collapsed_sections": [],
   "provenance": []
  },
  "kernelspec": {
   "display_name": "Python 3 (ipykernel)",
   "language": "python",
   "name": "python3"
  },
  "language_info": {
   "codemirror_mode": {
    "name": "ipython",
    "version": 3
   },
   "file_extension": ".py",
   "mimetype": "text/x-python",
   "name": "python",
   "nbconvert_exporter": "python",
   "pygments_lexer": "ipython3",
   "version": "3.10.7"
  },
  "vscode": {
   "interpreter": {
    "hash": "5e1c81bed49fdfea3e2d6ab96e522a44e2d3d83ab5dfead5b690824ce79664ad"
   }
  }
 },
 "nbformat": 4,
 "nbformat_minor": 1
}
