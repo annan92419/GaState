{
 "cells": [
  {
   "cell_type": "markdown",
   "id": "c0fb2808",
   "metadata": {},
   "source": [
    "# STILL WORKING ON THIS... estimated completion date 04/15/2023"
   ]
  },
  {
   "cell_type": "code",
   "execution_count": null,
   "id": "8e83cadd",
   "metadata": {},
   "outputs": [],
   "source": []
  },
  {
   "cell_type": "code",
   "execution_count": 1,
   "id": "dcf3fe3b",
   "metadata": {},
   "outputs": [],
   "source": [
    "import numpy as np\n",
    "import matplotlib.pyplot as plt\n",
    "%matplotlib inline"
   ]
  },
  {
   "cell_type": "code",
   "execution_count": 2,
   "id": "3f755faa",
   "metadata": {},
   "outputs": [
    {
     "name": "stdout",
     "output_type": "stream",
     "text": [
      " \u001b[0m\u001b[01;32mLectureslides.pdf\u001b[0m*       out.csv                   \u001b[01;34m'TEX file'\u001b[0m/\r\n",
      " NumA_test_area.ipynb     \u001b[01;32mpj002708111.py\u001b[0m*            writeup.txt\r\n",
      " \u001b[01;32mNumericalAnalysis.pdf\u001b[0m*   \u001b[01;32mproject_description.pdf\u001b[0m*\r\n",
      " NunA_work_area.ipynb     \u001b[01;34m__pycache__\u001b[0m/\r\n"
     ]
    }
   ],
   "source": [
    "ls"
   ]
  },
  {
   "cell_type": "code",
   "execution_count": 3,
   "id": "b143520b",
   "metadata": {},
   "outputs": [],
   "source": [
    "import pj002708111 as pj"
   ]
  },
  {
   "cell_type": "code",
   "execution_count": 4,
   "id": "5bdb9917",
   "metadata": {},
   "outputs": [
    {
     "data": {
      "text/plain": [
       "['__builtins__',\n",
       " '__cached__',\n",
       " '__doc__',\n",
       " '__file__',\n",
       " '__loader__',\n",
       " '__name__',\n",
       " '__package__',\n",
       " '__spec__',\n",
       " 'adams_explicit4',\n",
       " 'adams_pc4',\n",
       " 'adams_vs',\n",
       " 'euler',\n",
       " 'mod_euler',\n",
       " 'np',\n",
       " 'rk2',\n",
       " 'rk4',\n",
       " 'rkf']"
      ]
     },
     "execution_count": 4,
     "metadata": {},
     "output_type": "execute_result"
    }
   ],
   "source": [
    "dir(pj)"
   ]
  },
  {
   "cell_type": "code",
   "execution_count": 5,
   "id": "c9c802d9",
   "metadata": {},
   "outputs": [],
   "source": [
    "\"\"\"\n",
    "test two: sytem of equtions\n",
    "    y1' = -4y1 + 3y2 + 6\n",
    "    y2' = -2.4y1 + 1.6y2 + 3.6\n",
    "\"\"\"\n",
    "def f(t,y):\n",
    "    y1 = y[0]\n",
    "    y2 = y[1]\n",
    "\n",
    "    dy1 = -4 * y1 + 3 * y2 + 6\n",
    "    dy2 = -2.4 * y1 + 1.6 * y2 + 3.6\n",
    "    dy = np.array([dy1, dy2])\n",
    "\n",
    "    return dy\n",
    "\n",
    "\n",
    "def true_f(t):\n",
    "    from numpy import exp\n",
    "    \n",
    "    yt1 = -3.375*exp(-2*t) + 1.875*exp(-0.4*t) + 1.5\n",
    "    yt2 = -2.25*exp(-2*t) + 2.25*exp(-0.4*t)\n",
    "    \n",
    "    return (yt1, yt2)"
   ]
  },
  {
   "cell_type": "code",
   "execution_count": 6,
   "id": "b1910864",
   "metadata": {},
   "outputs": [],
   "source": [
    "method = pj.rk4\n",
    "name = \"Adams 4th-Order Predictor-Corrector vs Actual\""
   ]
  },
  {
   "cell_type": "code",
   "execution_count": 7,
   "id": "170c22ca",
   "metadata": {},
   "outputs": [
    {
     "data": {
      "image/png": "[encoded data removed]",
      "text/plain": [
       "<Figure size 432x288 with 1 Axes>"
      ]
     },
     "metadata": {
      "needs_background": "light"
     },
     "output_type": "display_data"
    }
   ],
   "source": [
    "# implementing test two\n",
    "a, b, N = 0, 1, 10\n",
    "ya = np.array([0, 0])\n",
    "t, y = method(f, a, b, ya, N)\n",
    "y1, y2 = y[0,:], y[1,:]\n",
    "# print(f't: {t}')\n",
    "# print(f'y_1: {y1}')\n",
    "# print(f'y_2: {y2}')\n",
    "\n",
    "yt1, yt2 = true_f(t)\n",
    "# print(f'yt_1: {yt1}')\n",
    "# print(f'yt_2: {yt2}')\n",
    "\n",
    "blue, ach = ['#4393c3'], ['#4d4d4d']\n",
    "# plotting test two's numerical solution\n",
    "plt.plot(t, y1, label='Pred y1', color='navy')\n",
    "plt.plot(t, y2, label='Pred y2', color='navy')\n",
    "plt.text(0.2,0.25,name)\n",
    "\n",
    "# plotting the true solution to the second function\n",
    "plt.plot(t, yt1, linestyle='--', label='True y1', color='darkgreen')\n",
    "plt.plot(t, yt2, linestyle='--', label='True y2', color='darkgreen')\n",
    "plt.ylabel('y')\n",
    "plt.xlabel('t')\n",
    "plt.legend()\n",
    "plt.show()"
   ]
  },
  {
   "cell_type": "code",
   "execution_count": 8,
   "id": "db0daa13",
   "metadata": {},
   "outputs": [],
   "source": [
    "# err1 = np.abs(yt1 - y1) # |y1 - y1*|\n",
    "# err2 = np.abs(yt2 - y2)"
   ]
  },
  {
   "cell_type": "code",
   "execution_count": 9,
   "id": "88fb6f0d",
   "metadata": {},
   "outputs": [],
   "source": [
    "# import pandas as pd\n",
    "# tempdf = pd.DataFrame()\n",
    "# tempdf['t'] = np.round(t,1)\n",
    "# tempdf['y1_actual'] = np.round(yt1,4)\n",
    "# tempdf['y2_actual'] = np.round(yt2,4)\n",
    "# tempdf['y1_pc4'] = np.round(y1,4)\n",
    "# tempdf['y2_pc4'] = np.round(y2,4)\n",
    "# tempdf['y1_a - y1_pc4'] = np.round(err1,5)\n",
    "# tempdf['y2_a - y2_pc4'] = np.round(err2,5)\n",
    "# tempdf"
   ]
  },
  {
   "cell_type": "code",
   "execution_count": 10,
   "id": "9381f1af",
   "metadata": {},
   "outputs": [],
   "source": [
    "# tempdf.to_csv('out.csv', sep='&', index=False)"
   ]
  },
  {
   "cell_type": "code",
   "execution_count": 11,
   "id": "16c12e37",
   "metadata": {},
   "outputs": [
    {
     "data": {
      "image/png": "[encoded data removed]",
      "text/plain": [
       "<Figure size 432x288 with 1 Axes>"
      ]
     },
     "metadata": {
      "needs_background": "light"
     },
     "output_type": "display_data"
    }
   ],
   "source": [
    "# visualizing errors\n",
    "err1 = np.abs(yt1 - y1) # |y1 - y1*|\n",
    "err2 = np.abs(yt2 - y2) # |y2 - y2*|\n",
    "plt.plot(t, err1, label='|y1 - y1*|', color='black')\n",
    "plt.plot(t, err2, label='|y2 - y2*|', color='red')\n",
    "plt.xlabel('t')\n",
    "plt.ylabel('absolute error')\n",
    "plt.legend()\n",
    "plt.show()"
   ]
  },
  {
   "cell_type": "code",
   "execution_count": null,
   "id": "10a53fdb",
   "metadata": {},
   "outputs": [],
   "source": []
  }
 ],
 "metadata": {
  "kernelspec": {
   "display_name": "Python 3 (ipykernel)",
   "language": "python",
   "name": "python3"
  },
  "language_info": {
   "codemirror_mode": {
    "name": "ipython",
    "version": 3
   },
   "file_extension": ".py",
   "mimetype": "text/x-python",
   "name": "python",
   "nbconvert_exporter": "python",
   "pygments_lexer": "ipython3",
   "version": "3.10.7"
  }
 },
 "nbformat": 4,
 "nbformat_minor": 5
}
